{
 "cells": [
  {
   "cell_type": "code",
   "execution_count": 31,
   "metadata": {},
   "outputs": [],
   "source": [
    "import tensorflow as tf\n",
    "from tensorflow import keras\n",
    "from tensorflow.keras.utils import to_categorical\n",
    "from tensorflow.keras.models import Sequential\n",
    "from tensorflow.keras.layers import Dense, Flatten, Conv2D, MaxPooling2D, Dropout\n",
    "import numpy as np\n",
    "import matplotlib.pyplot as plt\n",
    "import os\n",
    "import logging\n",
    "\n",
    "import pandas as pd"
   ]
  },
  {
   "cell_type": "markdown",
   "metadata": {},
   "source": [
    "## Getting the CIFAR dataset into local"
   ]
  },
  {
   "cell_type": "code",
   "execution_count": 12,
   "metadata": {},
   "outputs": [],
   "source": [
    "EPOCHS = 128\n",
    "BATCH_SIZE = 32\n",
    "\n",
    "# load dataset \n",
    "cifar_dataset = keras.datasets.cifar10\n",
    "(train_images, train_labels), (test_images, test_labels) = cifar_dataset.load_data()\n",
    "\n",
    "# standardize the dataset \n",
    "data_mean = np.mean(train_images)\n",
    "data_std = np.std(train_images)\n",
    "\n",
    "train_images = (train_images - data_mean) / data_std\n",
    "test_images = (test_images - data_mean) / data_std\n"
   ]
  },
  {
   "cell_type": "code",
   "execution_count": 14,
   "metadata": {},
   "outputs": [],
   "source": [
    "## Turning the labels into one-hot encoded vectors\n",
    "\n",
    "train_labels = to_categorical(train_labels)\n",
    "test_labels = to_categorical(test_labels)"
   ]
  },
  {
   "cell_type": "code",
   "execution_count": 16,
   "metadata": {},
   "outputs": [
    {
     "data": {
      "text/plain": [
       "array([0., 0., 0., 0., 0., 0., 1., 0., 0., 0.], dtype=float32)"
      ]
     },
     "execution_count": 16,
     "metadata": {},
     "output_type": "execute_result"
    }
   ],
   "source": [
    "train_labels[0]"
   ]
  },
  {
   "cell_type": "markdown",
   "metadata": {},
   "source": [
    "#### Creating helper functions to help get overview of model details"
   ]
  },
  {
   "cell_type": "code",
   "execution_count": 6,
   "metadata": {},
   "outputs": [
    {
     "data": {
      "text/plain": [
       "(50000, 32, 32, 3)"
      ]
     },
     "execution_count": 6,
     "metadata": {},
     "output_type": "execute_result"
    }
   ],
   "source": [
    "train_images.shape"
   ]
  },
  {
   "cell_type": "code",
   "execution_count": 9,
   "metadata": {},
   "outputs": [
    {
     "data": {
      "image/png": "[encoded data removed]",
      "text/plain": [
       "<Figure size 640x480 with 2 Axes>"
      ]
     },
     "metadata": {},
     "output_type": "display_data"
    }
   ],
   "source": [
    "show_image_idx = 100\n",
    "\n",
    "def single_image_plot(img_data):\n",
    "    plt.figure()\n",
    "    plt.imshow(img_data)\n",
    "    plt.colorbar()\n",
    "    plt.grid(False)\n",
    "    plt.show()\n",
    "\n",
    "\n",
    "single_image_plot(train_images[show_image_idx])"
   ]
  },
  {
   "cell_type": "code",
   "execution_count": 7,
   "metadata": {},
   "outputs": [],
   "source": []
  },
  {
   "cell_type": "markdown",
   "metadata": {},
   "source": [
    "#### Building the NN using Tensorflow - Testing original model"
   ]
  },
  {
   "cell_type": "code",
   "execution_count": null,
   "metadata": {},
   "outputs": [],
   "source": [
    "\n",
    "model = Sequential()\n",
    "\n",
    "model.add(\n",
    "    Conv2D(64, (5, 5),\n",
    "           strides = (2, 2),\n",
    "           activation = 'relu', padding = 'same',\n",
    "           input_shape = (32, 32, 3),\n",
    "           kernel_initializer = 'he_normal',\n",
    "           bias_initializer = 'zeros')\n",
    ")\n",
    "\n",
    "model.add(\n",
    "    Conv2D(64, (3, 3), \n",
    "           strides = (2, 2),\n",
    "           activation = 'relu', padding = 'same',\n",
    "           kernel_initializer = 'he_normal', \n",
    "           bias_initializer = 'zeros')\n",
    ")\n",
    "\n",
    "model.add(Flatten())\n",
    "\n",
    "model.add(\n",
    "    Dense(10, activation = 'softmax',\n",
    "          kernel_initializer = 'glorot_uniform',\n",
    "          bias_initializer = 'zeros')\n",
    ")\n",
    "\n",
    "model.compile(loss = 'categorical_crossentropy', \n",
    "              optimizer = 'adam', \n",
    "              metrics = ['accuracy'])\n",
    "\n",
    "model.summary()\n",
    "\n",
    "history = model.fit(train_images, \n",
    "                    train_labels, \n",
    "                    validation_data = (test_images, test_labels),\n",
    "                    epochs = EPOCHS,\n",
    "                    batch_size = BATCH_SIZE,\n",
    "                    verbose = 2,\n",
    "                    shuffle = True\n",
    ")"
   ]
  },
  {
   "cell_type": "markdown",
   "metadata": {},
   "source": [
    "### Create a function to plot training history vs validation history"
   ]
  },
  {
   "cell_type": "code",
   "execution_count": null,
   "metadata": {},
   "outputs": [],
   "source": [
    "\n",
    "\n",
    "def plot_history(history):\n",
    "\n",
    "    plt.figure()\n",
    "    plt.plot(history.history['accuracy'], 'b', label = 'Training accuracy')\n",
    "    plt.plot(history.history['val_accuracy'], 'r', label = 'Validation accuracy')\n",
    "    plt.xlabel('Epochs')\n",
    "    plt.ylabel('Accuracy')\n",
    "    plt.legend()\n",
    "    plt.show()"
   ]
  },
  {
   "cell_type": "code",
   "execution_count": null,
   "metadata": {},
   "outputs": [],
   "source": []
  },
  {
   "cell_type": "markdown",
   "metadata": {},
   "source": [
    "### Using more Optimized Model\n",
    "\n",
    "#### Model structure\n",
    "- Input size = 32x32x3\n",
    "- Convolution layer 1: 64 filters of size 4x4, stride = 1, padding = 'same', activation = 'relu'\n",
    "- Max Pooling layer 1: pool size = 2x2, stride = 2\n",
    "- Dropout layer 1: rate = 0.2\n",
    "\n",
    "- Convolution layer 2: 64 filters of size 2x2, stride = 2, padding = 'same', activation = 'relu'\n",
    "- Max Pooling layer 2: pool size = 2x2, stride = 2\n",
    "- Dropout layer 2: rate = 0.2\n",
    "\n",
    "- Convolution layer 3: 32 filters of size 3x3, stride = 1, padding = 'same', activation = 'relu'\n",
    "- Max Pooling layer 3: pool size = 2x2, stride = 2\n",
    "- Dropout layer 3: rate = 0.2\n",
    "\n",
    "- Convolution layer 4: 32 filters of size 3x3, stride = 1, padding = 'same', activation = 'relu'\n",
    "- Max Pooling layer 4: pool size = 2x2, stride = 2\n",
    "- Dropout layer 4: rate = 0.2\n",
    "\n",
    "- Dense layer 1: 64 neurons, activation = 'relu'\n",
    "- Dropout layer 5: rate = 0.2\n",
    "- Dense layer 2: 64 neurons, activation = 'relu'\n",
    "- Dense layer 3: 10 neurons, activation = 'softmax'\n",
    "\n"
   ]
  },
  {
   "cell_type": "code",
   "execution_count": 22,
   "metadata": {},
   "outputs": [
    {
     "ename": "TypeError",
     "evalue": "('Keyword argument not understood:', 'dropout')",
     "output_type": "error",
     "traceback": [
      "\u001b[0;31m---------------------------------------------------------------------------\u001b[0m",
      "\u001b[0;31mTypeError\u001b[0m                                 Traceback (most recent call last)",
      "\u001b[1;32m/Users/driverone/___code_repository/__Project_X/Image_classifier/cifar_using_TF.ipynb Cell 15\u001b[0m line \u001b[0;36m5\n\u001b[1;32m      <a href='vscode-notebook-cell:/Users/driverone/___code_repository/__Project_X/Image_classifier/cifar_using_TF.ipynb#X25sZmlsZQ%3D%3D?line=0'>1</a>\u001b[0m model2 \u001b[39m=\u001b[39m Sequential()\n\u001b[1;32m      <a href='vscode-notebook-cell:/Users/driverone/___code_repository/__Project_X/Image_classifier/cifar_using_TF.ipynb#X25sZmlsZQ%3D%3D?line=2'>3</a>\u001b[0m \u001b[39m#layer 1\u001b[39;00m\n\u001b[1;32m      <a href='vscode-notebook-cell:/Users/driverone/___code_repository/__Project_X/Image_classifier/cifar_using_TF.ipynb#X25sZmlsZQ%3D%3D?line=3'>4</a>\u001b[0m model2\u001b[39m.\u001b[39madd(\n\u001b[0;32m----> <a href='vscode-notebook-cell:/Users/driverone/___code_repository/__Project_X/Image_classifier/cifar_using_TF.ipynb#X25sZmlsZQ%3D%3D?line=4'>5</a>\u001b[0m     Conv2D(\u001b[39m64\u001b[39;49m, (\u001b[39m4\u001b[39;49m, \u001b[39m4\u001b[39;49m),\n\u001b[1;32m      <a href='vscode-notebook-cell:/Users/driverone/___code_repository/__Project_X/Image_classifier/cifar_using_TF.ipynb#X25sZmlsZQ%3D%3D?line=5'>6</a>\u001b[0m            strides \u001b[39m=\u001b[39;49m (\u001b[39m1\u001b[39;49m, \u001b[39m1\u001b[39;49m),\n\u001b[1;32m      <a href='vscode-notebook-cell:/Users/driverone/___code_repository/__Project_X/Image_classifier/cifar_using_TF.ipynb#X25sZmlsZQ%3D%3D?line=6'>7</a>\u001b[0m            activation \u001b[39m=\u001b[39;49m \u001b[39m'\u001b[39;49m\u001b[39mrelu\u001b[39;49m\u001b[39m'\u001b[39;49m, \n\u001b[1;32m      <a href='vscode-notebook-cell:/Users/driverone/___code_repository/__Project_X/Image_classifier/cifar_using_TF.ipynb#X25sZmlsZQ%3D%3D?line=7'>8</a>\u001b[0m            padding \u001b[39m=\u001b[39;49m \u001b[39m'\u001b[39;49m\u001b[39msame\u001b[39;49m\u001b[39m'\u001b[39;49m,\n\u001b[1;32m      <a href='vscode-notebook-cell:/Users/driverone/___code_repository/__Project_X/Image_classifier/cifar_using_TF.ipynb#X25sZmlsZQ%3D%3D?line=8'>9</a>\u001b[0m            input_shape \u001b[39m=\u001b[39;49m (\u001b[39m32\u001b[39;49m, \u001b[39m32\u001b[39;49m, \u001b[39m3\u001b[39;49m),\n\u001b[1;32m     <a href='vscode-notebook-cell:/Users/driverone/___code_repository/__Project_X/Image_classifier/cifar_using_TF.ipynb#X25sZmlsZQ%3D%3D?line=9'>10</a>\u001b[0m            kernel_initializer \u001b[39m=\u001b[39;49m \u001b[39m'\u001b[39;49m\u001b[39mhe_normal\u001b[39;49m\u001b[39m'\u001b[39;49m,\n\u001b[1;32m     <a href='vscode-notebook-cell:/Users/driverone/___code_repository/__Project_X/Image_classifier/cifar_using_TF.ipynb#X25sZmlsZQ%3D%3D?line=10'>11</a>\u001b[0m            bias_initializer \u001b[39m=\u001b[39;49m \u001b[39m'\u001b[39;49m\u001b[39mzeros\u001b[39;49m\u001b[39m'\u001b[39;49m,\n\u001b[1;32m     <a href='vscode-notebook-cell:/Users/driverone/___code_repository/__Project_X/Image_classifier/cifar_using_TF.ipynb#X25sZmlsZQ%3D%3D?line=11'>12</a>\u001b[0m            dropout \u001b[39m=\u001b[39;49m \u001b[39m0.2\u001b[39;49m)\n\u001b[1;32m     <a href='vscode-notebook-cell:/Users/driverone/___code_repository/__Project_X/Image_classifier/cifar_using_TF.ipynb#X25sZmlsZQ%3D%3D?line=12'>13</a>\u001b[0m )\n\u001b[1;32m     <a href='vscode-notebook-cell:/Users/driverone/___code_repository/__Project_X/Image_classifier/cifar_using_TF.ipynb#X25sZmlsZQ%3D%3D?line=14'>15</a>\u001b[0m \u001b[39m#layer 2\u001b[39;00m\n\u001b[1;32m     <a href='vscode-notebook-cell:/Users/driverone/___code_repository/__Project_X/Image_classifier/cifar_using_TF.ipynb#X25sZmlsZQ%3D%3D?line=15'>16</a>\u001b[0m model2\u001b[39m.\u001b[39madd(\n\u001b[1;32m     <a href='vscode-notebook-cell:/Users/driverone/___code_repository/__Project_X/Image_classifier/cifar_using_TF.ipynb#X25sZmlsZQ%3D%3D?line=16'>17</a>\u001b[0m     Conv2D(\u001b[39m64\u001b[39m, (\u001b[39m2\u001b[39m, \u001b[39m2\u001b[39m),\n\u001b[1;32m     <a href='vscode-notebook-cell:/Users/driverone/___code_repository/__Project_X/Image_classifier/cifar_using_TF.ipynb#X25sZmlsZQ%3D%3D?line=17'>18</a>\u001b[0m            strides \u001b[39m=\u001b[39m (\u001b[39m2\u001b[39m, \u001b[39m2\u001b[39m),\n\u001b[0;32m   (...)\u001b[0m\n\u001b[1;32m     <a href='vscode-notebook-cell:/Users/driverone/___code_repository/__Project_X/Image_classifier/cifar_using_TF.ipynb#X25sZmlsZQ%3D%3D?line=22'>23</a>\u001b[0m            dropout \u001b[39m=\u001b[39m \u001b[39m0.2\u001b[39m)\n\u001b[1;32m     <a href='vscode-notebook-cell:/Users/driverone/___code_repository/__Project_X/Image_classifier/cifar_using_TF.ipynb#X25sZmlsZQ%3D%3D?line=23'>24</a>\u001b[0m )\n",
      "File \u001b[0;32m~/miniforge3/lib/python3.9/site-packages/keras/dtensor/utils.py:96\u001b[0m, in \u001b[0;36mallow_initializer_layout.<locals>._wrap_function\u001b[0;34m(layer_instance, *args, **kwargs)\u001b[0m\n\u001b[1;32m     93\u001b[0m         \u001b[39mif\u001b[39;00m layout:\n\u001b[1;32m     94\u001b[0m             layout_args[variable_name \u001b[39m+\u001b[39m \u001b[39m\"\u001b[39m\u001b[39m_layout\u001b[39m\u001b[39m\"\u001b[39m] \u001b[39m=\u001b[39m layout\n\u001b[0;32m---> 96\u001b[0m init_method(layer_instance, \u001b[39m*\u001b[39;49margs, \u001b[39m*\u001b[39;49m\u001b[39m*\u001b[39;49mkwargs)\n\u001b[1;32m     98\u001b[0m \u001b[39m# Inject the layout parameter after the invocation of __init__()\u001b[39;00m\n\u001b[1;32m     99\u001b[0m \u001b[39mfor\u001b[39;00m layout_param_name, layout \u001b[39min\u001b[39;00m layout_args\u001b[39m.\u001b[39mitems():\n",
      "File \u001b[0;32m~/miniforge3/lib/python3.9/site-packages/keras/layers/convolutional/conv2d.py:178\u001b[0m, in \u001b[0;36mConv2D.__init__\u001b[0;34m(self, filters, kernel_size, strides, padding, data_format, dilation_rate, groups, activation, use_bias, kernel_initializer, bias_initializer, kernel_regularizer, bias_regularizer, activity_regularizer, kernel_constraint, bias_constraint, **kwargs)\u001b[0m\n\u001b[1;32m    157\u001b[0m \u001b[39m@utils\u001b[39m\u001b[39m.\u001b[39mallow_initializer_layout\n\u001b[1;32m    158\u001b[0m \u001b[39mdef\u001b[39;00m \u001b[39m__init__\u001b[39m(\n\u001b[1;32m    159\u001b[0m     \u001b[39mself\u001b[39m,\n\u001b[0;32m   (...)\u001b[0m\n\u001b[1;32m    176\u001b[0m     \u001b[39m*\u001b[39m\u001b[39m*\u001b[39mkwargs\n\u001b[1;32m    177\u001b[0m ):\n\u001b[0;32m--> 178\u001b[0m     \u001b[39msuper\u001b[39;49m()\u001b[39m.\u001b[39;49m\u001b[39m__init__\u001b[39;49m(\n\u001b[1;32m    179\u001b[0m         rank\u001b[39m=\u001b[39;49m\u001b[39m2\u001b[39;49m,\n\u001b[1;32m    180\u001b[0m         filters\u001b[39m=\u001b[39;49mfilters,\n\u001b[1;32m    181\u001b[0m         kernel_size\u001b[39m=\u001b[39;49mkernel_size,\n\u001b[1;32m    182\u001b[0m         strides\u001b[39m=\u001b[39;49mstrides,\n\u001b[1;32m    183\u001b[0m         padding\u001b[39m=\u001b[39;49mpadding,\n\u001b[1;32m    184\u001b[0m         data_format\u001b[39m=\u001b[39;49mdata_format,\n\u001b[1;32m    185\u001b[0m         dilation_rate\u001b[39m=\u001b[39;49mdilation_rate,\n\u001b[1;32m    186\u001b[0m         groups\u001b[39m=\u001b[39;49mgroups,\n\u001b[1;32m    187\u001b[0m         activation\u001b[39m=\u001b[39;49mactivations\u001b[39m.\u001b[39;49mget(activation),\n\u001b[1;32m    188\u001b[0m         use_bias\u001b[39m=\u001b[39;49muse_bias,\n\u001b[1;32m    189\u001b[0m         kernel_initializer\u001b[39m=\u001b[39;49minitializers\u001b[39m.\u001b[39;49mget(kernel_initializer),\n\u001b[1;32m    190\u001b[0m         bias_initializer\u001b[39m=\u001b[39;49minitializers\u001b[39m.\u001b[39;49mget(bias_initializer),\n\u001b[1;32m    191\u001b[0m         kernel_regularizer\u001b[39m=\u001b[39;49mregularizers\u001b[39m.\u001b[39;49mget(kernel_regularizer),\n\u001b[1;32m    192\u001b[0m         bias_regularizer\u001b[39m=\u001b[39;49mregularizers\u001b[39m.\u001b[39;49mget(bias_regularizer),\n\u001b[1;32m    193\u001b[0m         activity_regularizer\u001b[39m=\u001b[39;49mregularizers\u001b[39m.\u001b[39;49mget(activity_regularizer),\n\u001b[1;32m    194\u001b[0m         kernel_constraint\u001b[39m=\u001b[39;49mconstraints\u001b[39m.\u001b[39;49mget(kernel_constraint),\n\u001b[1;32m    195\u001b[0m         bias_constraint\u001b[39m=\u001b[39;49mconstraints\u001b[39m.\u001b[39;49mget(bias_constraint),\n\u001b[1;32m    196\u001b[0m         \u001b[39m*\u001b[39;49m\u001b[39m*\u001b[39;49mkwargs\n\u001b[1;32m    197\u001b[0m     )\n",
      "File \u001b[0;32m~/miniforge3/lib/python3.9/site-packages/keras/layers/convolutional/base_conv.py:118\u001b[0m, in \u001b[0;36mConv.__init__\u001b[0;34m(self, rank, filters, kernel_size, strides, padding, data_format, dilation_rate, groups, activation, use_bias, kernel_initializer, bias_initializer, kernel_regularizer, bias_regularizer, activity_regularizer, kernel_constraint, bias_constraint, trainable, name, conv_op, **kwargs)\u001b[0m\n\u001b[1;32m     94\u001b[0m \u001b[39mdef\u001b[39;00m \u001b[39m__init__\u001b[39m(\n\u001b[1;32m     95\u001b[0m     \u001b[39mself\u001b[39m,\n\u001b[1;32m     96\u001b[0m     rank,\n\u001b[0;32m   (...)\u001b[0m\n\u001b[1;32m    116\u001b[0m     \u001b[39m*\u001b[39m\u001b[39m*\u001b[39mkwargs,\n\u001b[1;32m    117\u001b[0m ):\n\u001b[0;32m--> 118\u001b[0m     \u001b[39msuper\u001b[39;49m()\u001b[39m.\u001b[39;49m\u001b[39m__init__\u001b[39;49m(\n\u001b[1;32m    119\u001b[0m         trainable\u001b[39m=\u001b[39;49mtrainable,\n\u001b[1;32m    120\u001b[0m         name\u001b[39m=\u001b[39;49mname,\n\u001b[1;32m    121\u001b[0m         activity_regularizer\u001b[39m=\u001b[39;49mregularizers\u001b[39m.\u001b[39;49mget(activity_regularizer),\n\u001b[1;32m    122\u001b[0m         \u001b[39m*\u001b[39;49m\u001b[39m*\u001b[39;49mkwargs,\n\u001b[1;32m    123\u001b[0m     )\n\u001b[1;32m    124\u001b[0m     \u001b[39mself\u001b[39m\u001b[39m.\u001b[39mrank \u001b[39m=\u001b[39m rank\n\u001b[1;32m    126\u001b[0m     \u001b[39mif\u001b[39;00m \u001b[39misinstance\u001b[39m(filters, \u001b[39mfloat\u001b[39m):\n",
      "File \u001b[0;32m~/miniforge3/lib/python3.9/site-packages/tensorflow/python/trackable/base.py:205\u001b[0m, in \u001b[0;36mno_automatic_dependency_tracking.<locals>._method_wrapper\u001b[0;34m(self, *args, **kwargs)\u001b[0m\n\u001b[1;32m    203\u001b[0m \u001b[39mself\u001b[39m\u001b[39m.\u001b[39m_self_setattr_tracking \u001b[39m=\u001b[39m \u001b[39mFalse\u001b[39;00m  \u001b[39m# pylint: disable=protected-access\u001b[39;00m\n\u001b[1;32m    204\u001b[0m \u001b[39mtry\u001b[39;00m:\n\u001b[0;32m--> 205\u001b[0m   result \u001b[39m=\u001b[39m method(\u001b[39mself\u001b[39;49m, \u001b[39m*\u001b[39;49margs, \u001b[39m*\u001b[39;49m\u001b[39m*\u001b[39;49mkwargs)\n\u001b[1;32m    206\u001b[0m \u001b[39mfinally\u001b[39;00m:\n\u001b[1;32m    207\u001b[0m   \u001b[39mself\u001b[39m\u001b[39m.\u001b[39m_self_setattr_tracking \u001b[39m=\u001b[39m previous_value  \u001b[39m# pylint: disable=protected-access\u001b[39;00m\n",
      "File \u001b[0;32m~/miniforge3/lib/python3.9/site-packages/keras/engine/base_layer.py:335\u001b[0m, in \u001b[0;36mLayer.__init__\u001b[0;34m(self, trainable, name, dtype, dynamic, **kwargs)\u001b[0m\n\u001b[1;32m    324\u001b[0m allowed_kwargs \u001b[39m=\u001b[39m {\n\u001b[1;32m    325\u001b[0m     \u001b[39m\"\u001b[39m\u001b[39minput_dim\u001b[39m\u001b[39m\"\u001b[39m,\n\u001b[1;32m    326\u001b[0m     \u001b[39m\"\u001b[39m\u001b[39minput_shape\u001b[39m\u001b[39m\"\u001b[39m,\n\u001b[0;32m   (...)\u001b[0m\n\u001b[1;32m    332\u001b[0m     \u001b[39m\"\u001b[39m\u001b[39mimplementation\u001b[39m\u001b[39m\"\u001b[39m,\n\u001b[1;32m    333\u001b[0m }\n\u001b[1;32m    334\u001b[0m \u001b[39m# Validate optional keyword arguments.\u001b[39;00m\n\u001b[0;32m--> 335\u001b[0m generic_utils\u001b[39m.\u001b[39;49mvalidate_kwargs(kwargs, allowed_kwargs)\n\u001b[1;32m    337\u001b[0m \u001b[39m# Mutable properties\u001b[39;00m\n\u001b[1;32m    338\u001b[0m \u001b[39m# Indicates whether the layer's weights are updated during training\u001b[39;00m\n\u001b[1;32m    339\u001b[0m \u001b[39m# and whether the layer's updates are run during training.\u001b[39;00m\n\u001b[1;32m    340\u001b[0m \u001b[39mif\u001b[39;00m \u001b[39mnot\u001b[39;00m (\n\u001b[1;32m    341\u001b[0m     \u001b[39misinstance\u001b[39m(trainable, \u001b[39mbool\u001b[39m)\n\u001b[1;32m    342\u001b[0m     \u001b[39mor\u001b[39;00m (\n\u001b[0;32m   (...)\u001b[0m\n\u001b[1;32m    345\u001b[0m     )\n\u001b[1;32m    346\u001b[0m ):\n",
      "File \u001b[0;32m~/miniforge3/lib/python3.9/site-packages/keras/utils/generic_utils.py:1269\u001b[0m, in \u001b[0;36mvalidate_kwargs\u001b[0;34m(kwargs, allowed_kwargs, error_message)\u001b[0m\n\u001b[1;32m   1267\u001b[0m \u001b[39mfor\u001b[39;00m kwarg \u001b[39min\u001b[39;00m kwargs:\n\u001b[1;32m   1268\u001b[0m     \u001b[39mif\u001b[39;00m kwarg \u001b[39mnot\u001b[39;00m \u001b[39min\u001b[39;00m allowed_kwargs:\n\u001b[0;32m-> 1269\u001b[0m         \u001b[39mraise\u001b[39;00m \u001b[39mTypeError\u001b[39;00m(error_message, kwarg)\n",
      "\u001b[0;31mTypeError\u001b[0m: ('Keyword argument not understood:', 'dropout')"
     ]
    }
   ],
   "source": [
    "\n",
    "model2 = Sequential()\n",
    "\n",
    "#layer 1\n",
    "model2.add(\n",
    "    Conv2D(64, (4, 4),\n",
    "           strides = (1, 1),\n",
    "           activation = 'relu', \n",
    "           padding = 'same',\n",
    "           input_shape = (32, 32, 3),\n",
    "           kernel_initializer = 'he_normal',\n",
    "           bias_initializer = 'zeros')\n",
    ")\n",
    "\n",
    "model2.add(MaxPooling2D(pool_size = (2, 2), strides = (2, 2)))\n",
    "model2.add(Dropout(0.2))\n",
    "\n",
    "\n",
    "#layer 2\n",
    "model2.add(\n",
    "    Conv2D(64, (2, 2),\n",
    "           strides = (2, 2),\n",
    "           activation = 'relu', \n",
    "           padding = 'same',\n",
    "           kernel_initializer = 'he_normal',\n",
    "           bias_initializer = 'zeros',\n",
    "           dropout = 0.2)\n",
    ")\n",
    "\n",
    "model2.add(MaxPooling2D(pool_size = (2, 2), strides = (2, 2)))\n",
    "model2.add(Dropout(0.2))\n",
    "\n",
    "#layer 3\n",
    "model2.add(\n",
    "    Conv2D(32, (3, 3),\n",
    "           strides = (1, 1),\n",
    "           activation = 'relu', \n",
    "           padding = 'same',\n",
    "           kernel_initializer = 'he_normal',\n",
    "           bias_initializer = 'zeros',\n",
    "           dropout = 0.2)\n",
    ")\n",
    "\n",
    "model2.add(MaxPooling2D(pool_size = (2, 2), strides = (2, 2)))\n",
    "model2.add(Dropout(0.2))\n",
    "\n",
    "#layer 4\n",
    "model2.add(\n",
    "    Conv2D(32, (3, 3),\n",
    "           strides = (1, 1),\n",
    "           activation = 'relu', \n",
    "           padding = 'same',\n",
    "           kernel_initializer = 'he_normal',\n",
    "           bias_initializer = 'zeros',\n",
    "           dropout = 0.2)\n",
    ")\n",
    "\n",
    "model2.add(MaxPooling2D(pool_size = (2, 2), strides = (2, 2)))\n",
    "model2.add(Dropout(0.2))\n",
    "\n",
    "\n",
    "model2.add(Flatten())\n",
    "\n",
    "model2.add(\n",
    "    Dense(64, activation = 'relu',\n",
    "          kernel_initializer = 'glorot_uniform',\n",
    "          bias_initializer = 'zeros')\n",
    ")\n",
    "model2.add(Dropout(0.2))\n",
    "\n",
    "\n",
    "model2.add(\n",
    "    Dense(64, activation = 'relu',\n",
    "          kernel_initializer = 'glorot_uniform',\n",
    "          bias_initializer = 'zeros')\n",
    ")\n",
    "\n",
    "\n",
    "model.add(\n",
    "    Dense(10, activation = 'softmax',\n",
    "          kernel_initializer = 'glorot_uniform',\n",
    "          bias_initializer = 'zeros')\n",
    ")\n",
    "\n",
    "model.compile(loss = 'categorical_crossentropy', \n",
    "              optimizer = 'adam', \n",
    "              metrics = ['accuracy'])\n",
    "\n",
    "model.summary()\n",
    "\n",
    "history_2 = model.fit(train_images, \n",
    "                    train_labels, \n",
    "                    validation_data = (test_images, test_labels),\n",
    "                    epochs = EPOCHS,\n",
    "                    batch_size = BATCH_SIZE,\n",
    "                    verbose = 2,\n",
    "                    shuffle = True\n",
    ")"
   ]
  },
  {
   "cell_type": "code",
   "execution_count": null,
   "metadata": {},
   "outputs": [],
   "source": [
    "\n",
    "\n",
    "def save_model(model, model_name):\n",
    "    model.save(model_name + '.h5')\n",
    "    print('Model saved as {}'.format(model_name + '.h5'))\n",
    "\n",
    "save_model(model, 'cifar10_model')"
   ]
  },
  {
   "cell_type": "code",
   "execution_count": null,
   "metadata": {},
   "outputs": [],
   "source": [
    "## create a function to write the weights to a file\n",
    "\n",
    "def write_weights(model, model_name):\n",
    "    model.save_weights(model_name + '.h5')\n",
    "    print('Weights saved as {}'.format(model_name + '.h5'))"
   ]
  },
  {
   "cell_type": "code",
   "execution_count": null,
   "metadata": {},
   "outputs": [],
   "source": []
  },
  {
   "cell_type": "code",
   "execution_count": 29,
   "metadata": {},
   "outputs": [
    {
     "name": "stdout",
     "output_type": "stream",
     "text": [
      "Model loaded from ./models/model_tf_optimised/cifar10_model_opt.h5.h5\n",
      "Model: \"sequential_2\"\n",
      "_________________________________________________________________\n",
      " Layer (type)                Output Shape              Param #   \n",
      "=================================================================\n",
      " conv2d_5 (Conv2D)           (None, 32, 32, 64)        3136      \n",
      "                                                                 \n",
      " max_pooling2d_5 (MaxPooling  (None, 16, 16, 64)       0         \n",
      " 2D)                                                             \n",
      "                                                                 \n",
      " dropout_6 (Dropout)         (None, 16, 16, 64)        0         \n",
      "                                                                 \n",
      " conv2d_6 (Conv2D)           (None, 8, 8, 64)          16448     \n",
      "                                                                 \n",
      " max_pooling2d_6 (MaxPooling  (None, 4, 4, 64)         0         \n",
      " 2D)                                                             \n",
      "                                                                 \n",
      " dropout_7 (Dropout)         (None, 4, 4, 64)          0         \n",
      "                                                                 \n",
      " conv2d_7 (Conv2D)           (None, 4, 4, 32)          18464     \n",
      "                                                                 \n",
      " max_pooling2d_7 (MaxPooling  (None, 2, 2, 32)         0         \n",
      " 2D)                                                             \n",
      "                                                                 \n",
      " dropout_8 (Dropout)         (None, 2, 2, 32)          0         \n",
      "                                                                 \n",
      " conv2d_8 (Conv2D)           (None, 2, 2, 32)          9248      \n",
      "                                                                 \n",
      " max_pooling2d_8 (MaxPooling  (None, 1, 1, 32)         0         \n",
      " 2D)                                                             \n",
      "                                                                 \n",
      " dropout_9 (Dropout)         (None, 1, 1, 32)          0         \n",
      "                                                                 \n",
      " flatten_1 (Flatten)         (None, 32)                0         \n",
      "                                                                 \n",
      " dense_2 (Dense)             (None, 64)                2112      \n",
      "                                                                 \n",
      " dropout_10 (Dropout)        (None, 64)                0         \n",
      "                                                                 \n",
      " dense_3 (Dense)             (None, 64)                4160      \n",
      "                                                                 \n",
      " dense_4 (Dense)             (None, 10)                650       \n",
      "                                                                 \n",
      "=================================================================\n",
      "Total params: 54,218\n",
      "Trainable params: 54,218\n",
      "Non-trainable params: 0\n",
      "_________________________________________________________________\n"
     ]
    }
   ],
   "source": [
    "## load the model and weights\n",
    "\n",
    "def load_model(model_name):\n",
    "    model = keras.models.load_model(model_name, compile=False)\n",
    "    print('Model loaded from {}'.format(model_name + '.h5'))\n",
    "    return model\n",
    "\n",
    "m2 = load_model('./models/model_tf_optimised/cifar10_model_opt.h5')\n",
    "\n",
    "m2.summary()"
   ]
  },
  {
   "cell_type": "code",
   "execution_count": 30,
   "metadata": {},
   "outputs": [
    {
     "name": "stderr",
     "output_type": "stream",
     "text": [
      "2023-10-10 08:59:47.754683: I tensorflow/core/grappler/optimizers/custom_graph_optimizer_registry.cc:114] Plugin optimizer for device_type GPU is enabled.\n"
     ]
    },
    {
     "name": "stdout",
     "output_type": "stream",
     "text": [
      "313/313 [==============================] - 3s 6ms/step\n"
     ]
    },
    {
     "data": {
      "text/plain": [
       "array([[6.6700163e-03, 7.3078629e-03, 2.8783606e-02, ..., 1.2795547e-02,\n",
       "        5.0213947e-03, 4.9704770e-03],\n",
       "       [3.5570048e-02, 7.4528116e-01, 3.8431908e-04, ..., 4.1999147e-06,\n",
       "        1.8496361e-01, 3.3408195e-02],\n",
       "       [5.1953949e-02, 3.5641670e-02, 3.7653025e-02, ..., 5.3851949e-03,\n",
       "        7.6345581e-01, 1.5808951e-02],\n",
       "       ...,\n",
       "       [9.5194596e-04, 1.0898138e-04, 8.8746272e-02, ..., 4.1492969e-02,\n",
       "        2.8953646e-04, 1.5956529e-04],\n",
       "       [1.1533535e-02, 9.3401968e-01, 1.3190899e-03, ..., 3.7175836e-04,\n",
       "        9.0270117e-03, 4.1010700e-02],\n",
       "       [2.6874202e-06, 4.2419179e-09, 1.5765958e-04, ..., 9.9331748e-01,\n",
       "        1.7421142e-10, 6.3228775e-08]], dtype=float32)"
      ]
     },
     "execution_count": 30,
     "metadata": {},
     "output_type": "execute_result"
    }
   ],
   "source": [
    "m2.predict(test_images)"
   ]
  },
  {
   "cell_type": "markdown",
   "metadata": {},
   "source": [
    "### Building the performance curves\n"
   ]
  },
  {
   "cell_type": "code",
   "execution_count": null,
   "metadata": {},
   "outputs": [],
   "source": []
  },
  {
   "cell_type": "code",
   "execution_count": 34,
   "metadata": {},
   "outputs": [],
   "source": [
    "perf_df = pd.read_csv('./model_performance/optimized_tf_history/opt_model_history_df.csv')\n"
   ]
  },
  {
   "cell_type": "code",
   "execution_count": 35,
   "metadata": {},
   "outputs": [
    {
     "data": {
      "text/html": [
       "<div>\n",
       "<style scoped>\n",
       "    .dataframe tbody tr th:only-of-type {\n",
       "        vertical-align: middle;\n",
       "    }\n",
       "\n",
       "    .dataframe tbody tr th {\n",
       "        vertical-align: top;\n",
       "    }\n",
       "\n",
       "    .dataframe thead th {\n",
       "        text-align: right;\n",
       "    }\n",
       "</style>\n",
       "<table border=\"1\" class=\"dataframe\">\n",
       "  <thead>\n",
       "    <tr style=\"text-align: right;\">\n",
       "      <th></th>\n",
       "      <th>training_loss</th>\n",
       "      <th>validation_loss</th>\n",
       "      <th>training_accuracy</th>\n",
       "      <th>validation_accuracy</th>\n",
       "    </tr>\n",
       "  </thead>\n",
       "  <tbody>\n",
       "    <tr>\n",
       "      <th>0</th>\n",
       "      <td>1.888602</td>\n",
       "      <td>1.568621</td>\n",
       "      <td>0.27396</td>\n",
       "      <td>0.4158</td>\n",
       "    </tr>\n",
       "    <tr>\n",
       "      <th>1</th>\n",
       "      <td>1.583648</td>\n",
       "      <td>1.401774</td>\n",
       "      <td>0.40318</td>\n",
       "      <td>0.4893</td>\n",
       "    </tr>\n",
       "    <tr>\n",
       "      <th>2</th>\n",
       "      <td>1.449119</td>\n",
       "      <td>1.243587</td>\n",
       "      <td>0.46420</td>\n",
       "      <td>0.5483</td>\n",
       "    </tr>\n",
       "    <tr>\n",
       "      <th>3</th>\n",
       "      <td>1.357873</td>\n",
       "      <td>1.212356</td>\n",
       "      <td>0.50326</td>\n",
       "      <td>0.5642</td>\n",
       "    </tr>\n",
       "    <tr>\n",
       "      <th>4</th>\n",
       "      <td>1.302509</td>\n",
       "      <td>1.157678</td>\n",
       "      <td>0.52726</td>\n",
       "      <td>0.5857</td>\n",
       "    </tr>\n",
       "  </tbody>\n",
       "</table>\n",
       "</div>"
      ],
      "text/plain": [
       "   training_loss  validation_loss  training_accuracy  validation_accuracy\n",
       "0       1.888602         1.568621            0.27396               0.4158\n",
       "1       1.583648         1.401774            0.40318               0.4893\n",
       "2       1.449119         1.243587            0.46420               0.5483\n",
       "3       1.357873         1.212356            0.50326               0.5642\n",
       "4       1.302509         1.157678            0.52726               0.5857"
      ]
     },
     "execution_count": 35,
     "metadata": {},
     "output_type": "execute_result"
    }
   ],
   "source": [
    "perf_df.head()"
   ]
  },
  {
   "cell_type": "code",
   "execution_count": 37,
   "metadata": {},
   "outputs": [],
   "source": [
    "perf_df['epochs'] = perf_df.index + 1"
   ]
  },
  {
   "cell_type": "markdown",
   "metadata": {},
   "source": [
    "### Building the Loss and Accuracy curves for validation and training data"
   ]
  },
  {
   "cell_type": "code",
   "execution_count": null,
   "metadata": {},
   "outputs": [],
   "source": []
  },
  {
   "cell_type": "markdown",
   "metadata": {},
   "source": [
    "### Plotting the Loss - Training vs. Validation"
   ]
  },
  {
   "cell_type": "code",
   "execution_count": 39,
   "metadata": {},
   "outputs": [
    {
     "data": {
      "image/png": "[encoded data removed]",
      "text/plain": [
       "<Figure size 640x480 with 1 Axes>"
      ]
     },
     "metadata": {},
     "output_type": "display_data"
    }
   ],
   "source": [
    "plt.figure()\n",
    "plt.plot(perf_df['epochs'].values, perf_df['training_loss'].values, 'b', label = 'Training Loss')\n",
    "plt.plot(perf_df['epochs'].values, perf_df['validation_loss'].values, 'r', label = 'Validation Loss')\n",
    "plt.xlabel('Epochs')\n",
    "plt.ylabel('Loss')\n",
    "plt.grid()\n",
    "plt.legend()\n",
    "plt.show()"
   ]
  },
  {
   "cell_type": "code",
   "execution_count": null,
   "metadata": {},
   "outputs": [],
   "source": []
  },
  {
   "cell_type": "markdown",
   "metadata": {},
   "source": [
    "### Plotting the Accuracy - Training vs. Validation"
   ]
  },
  {
   "cell_type": "code",
   "execution_count": 40,
   "metadata": {},
   "outputs": [
    {
     "data": {
      "image/png": "[encoded data removed]",
      "text/plain": [
       "<Figure size 640x480 with 1 Axes>"
      ]
     },
     "metadata": {},
     "output_type": "display_data"
    }
   ],
   "source": [
    "plt.figure()\n",
    "plt.plot(perf_df['epochs'].values, perf_df['training_accuracy'].values, 'b', label = 'Training Accuracy')\n",
    "plt.plot(perf_df['epochs'].values, perf_df['validation_accuracy'].values, 'r', label = 'Validation Accuracy')\n",
    "plt.xlabel('Epochs')\n",
    "plt.ylabel('Loss')\n",
    "plt.legend()\n",
    "plt.grid()\n",
    "plt.show()"
   ]
  },
  {
   "cell_type": "code",
   "execution_count": null,
   "metadata": {},
   "outputs": [],
   "source": []
  }
 ],
 "metadata": {
  "kernelspec": {
   "display_name": "Python 3",
   "language": "python",
   "name": "python3"
  },
  "language_info": {
   "codemirror_mode": {
    "name": "ipython",
    "version": 3
   },
   "file_extension": ".py",
   "mimetype": "text/x-python",
   "name": "python",
   "nbconvert_exporter": "python",
   "pygments_lexer": "ipython3",
   "version": "3.9.10"
  },
  "orig_nbformat": 4
 },
 "nbformat": 4,
 "nbformat_minor": 2
}
